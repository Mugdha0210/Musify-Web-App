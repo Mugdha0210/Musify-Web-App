{
 "cells": [
  {
   "cell_type": "code",
   "execution_count": 1,
   "metadata": {},
   "outputs": [
    {
     "name": "stdout",
     "output_type": "stream",
     "text": [
      "Requirement already satisfied: requests in /home/user/anaconda3/lib/python3.7/site-packages (2.22.0)\r\n",
      "Requirement already satisfied: certifi>=2017.4.17 in /home/user/anaconda3/lib/python3.7/site-packages (from requests) (2019.11.28)\r\n",
      "Requirement already satisfied: idna<2.9,>=2.5 in /home/user/anaconda3/lib/python3.7/site-packages (from requests) (2.8)\r\n",
      "Requirement already satisfied: urllib3!=1.25.0,!=1.25.1,<1.26,>=1.21.1 in /home/user/anaconda3/lib/python3.7/site-packages (from requests) (1.25.8)\r\n",
      "Requirement already satisfied: chardet<3.1.0,>=3.0.2 in /home/user/anaconda3/lib/python3.7/site-packages (from requests) (3.0.4)\r\n"
     ]
    }
   ],
   "source": [
    "!pip install requests"
   ]
  },
  {
   "cell_type": "code",
   "execution_count": 2,
   "metadata": {},
   "outputs": [],
   "source": [
    "import requests"
   ]
  },
  {
   "cell_type": "code",
   "execution_count": 3,
   "metadata": {},
   "outputs": [],
   "source": [
    "import datetime\n",
    "import base64"
   ]
  },
  {
   "cell_type": "code",
   "execution_count": 4,
   "metadata": {},
   "outputs": [],
   "source": [
    "client_id = 'e1026387021c413786266d809e931ca1'"
   ]
  },
  {
   "cell_type": "code",
   "execution_count": 5,
   "metadata": {},
   "outputs": [],
   "source": [
    "#Client ID is the unique identifier of your application.\n",
    "#Client Secret is the key that you pass in secure calls to the Spotify Accounts and Web API services. "
   ]
  },
  {
   "cell_type": "code",
   "execution_count": 6,
   "metadata": {},
   "outputs": [],
   "source": [
    "client_secret = '6a3eb258f5b54b358860a5de726d0063'"
   ]
  },
  {
   "cell_type": "code",
   "execution_count": 19,
   "metadata": {},
   "outputs": [],
   "source": [
    "class SpotifyAPI(object):\n",
    "    access_token = None\n",
    "    access_token_expires = datetime.datetime.now()\n",
    "    client_id = None\n",
    "    client_secret = None\n",
    "    token_url = 'https://accounts.spotify.com/api/token'\n",
    "    access_token_did_expire = True\n",
    "    \n",
    "    def __init__(self, client_id, client_secret, *args, **kwargs) :\n",
    "        super().__init__(*args, **kwargs)\n",
    "        self.client_id = client_id\n",
    "        self.client_secret = client_secret\n",
    "        \n",
    "    def get_client_credentials(self):\n",
    "        client_id = self.client_id\n",
    "        client_secret = self.client_secret\n",
    "        \n",
    "        if client_id == None or client_secret == None :\n",
    "            raise Exception(\"You need to set client_id and client_secret\")\n",
    "            \n",
    "        client_creds = f\"{client_id}:{client_secret}\"\n",
    "        client_creds_b64 = base64.b64encode(client_creds.encode())\n",
    "        return client_creds_b64.decode()\n",
    "    \n",
    "    def get_token_headers(self):\n",
    "        client_creds_b64 = self.get_client_credentials()\n",
    "        return { \"Authorization\" : f\"Basic {client_creds_b64}\" }\n",
    "    \n",
    "    def get_token_data(self) :\n",
    "        return {\"grant_type\" : \"client_credentials\"}\n",
    "    \n",
    "    def perform_auth(self):\n",
    "        token_url = self.token_url\n",
    "        token_data = self.get_token_data()\n",
    "        token_headers = self.get_token_headers()\n",
    "        r = requests.post(token_url, data = token_data, headers = token_headers)\n",
    "        \n",
    "        if r.status_code not in range(200, 299) :\n",
    "            return False\n",
    "        \n",
    "        now = datetime.datetime.now()\n",
    "        data = r.json()\n",
    "        self.access_token = data['access_token']\n",
    "        expires_in = data['expires_in']    #seconds\n",
    "        self.access_token_expires = now + datetime.timedelta(seconds = expires_in)\n",
    "                #now = datetime.datetime.now()\n",
    "        self.access_token_did_expire = self.access_token_expires < now\n",
    "        return True\n",
    "        \n"
   ]
  },
  {
   "cell_type": "code",
   "execution_count": 24,
   "metadata": {},
   "outputs": [],
   "source": [
    "spotify = SpotifyAPI(client_id, client_secret)"
   ]
  },
  {
   "cell_type": "code",
   "execution_count": 25,
   "metadata": {},
   "outputs": [
    {
     "data": {
      "text/plain": [
       "True"
      ]
     },
     "execution_count": 25,
     "metadata": {},
     "output_type": "execute_result"
    }
   ],
   "source": [
    "spotify.perform_auth()"
   ]
  },
  {
   "cell_type": "code",
   "execution_count": 27,
   "metadata": {},
   "outputs": [
    {
     "data": {
      "text/plain": [
       "'BQCvGUuQMZtb04jJ6cZhx6m6zjRx5bLZ5kXD8RyWsH6duIs95jzVpmAwLYWAcBpbq1kURyXW5ocxZH2Rve0'"
      ]
     },
     "execution_count": 27,
     "metadata": {},
     "output_type": "execute_result"
    }
   ],
   "source": [
    "spotify.access_token\n"
   ]
  },
  {
   "cell_type": "code",
   "execution_count": null,
   "metadata": {},
   "outputs": [],
   "source": []
  }
 ],
 "metadata": {
  "kernelspec": {
   "display_name": "Python 3",
   "language": "python",
   "name": "python3"
  },
  "language_info": {
   "codemirror_mode": {
    "name": "ipython",
    "version": 3
   },
   "file_extension": ".py",
   "mimetype": "text/x-python",
   "name": "python",
   "nbconvert_exporter": "python",
   "pygments_lexer": "ipython3",
   "version": "3.7.6"
  }
 },
 "nbformat": 4,
 "nbformat_minor": 4
}
